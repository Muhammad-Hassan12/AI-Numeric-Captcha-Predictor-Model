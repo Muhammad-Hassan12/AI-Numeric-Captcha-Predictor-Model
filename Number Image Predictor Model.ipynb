{
 "cells": [
  {
   "cell_type": "markdown",
   "id": "1da6bcb4",
   "metadata": {},
   "source": [
    "## Applying \"Deep Learning Model\" on \"mnist\" dataset"
   ]
  },
  {
   "cell_type": "code",
   "execution_count": 24,
   "id": "10475f05",
   "metadata": {},
   "outputs": [],
   "source": [
    "from keras.datasets import mnist"
   ]
  },
  {
   "cell_type": "code",
   "execution_count": 2,
   "id": "c208febe",
   "metadata": {},
   "outputs": [],
   "source": [
    "(train_images, train_labels), (test_images, test_labels) = mnist.load_data()"
   ]
  },
  {
   "cell_type": "markdown",
   "id": "3506b34d",
   "metadata": {},
   "source": [
    "#### To see Images!"
   ]
  },
  {
   "cell_type": "code",
   "execution_count": 3,
   "id": "2f3e8112",
   "metadata": {},
   "outputs": [],
   "source": [
    "from matplotlib.pyplot import imshow as plt"
   ]
  },
  {
   "cell_type": "code",
   "execution_count": 4,
   "id": "6750332b",
   "metadata": {},
   "outputs": [
    {
     "name": "stdout",
     "output_type": "stream",
     "text": [
      "The Lable of this image is= 5\n"
     ]
    },
    {
     "data": {
      "image/png": "[encoded data removed]",
      "text/plain": [
       "<Figure size 640x480 with 1 Axes>"
      ]
     },
     "metadata": {},
     "output_type": "display_data"
    }
   ],
   "source": [
    "plt(train_images[0])\n",
    "print(f'The Lable of this image is= {train_labels[0]}')"
   ]
  },
  {
   "cell_type": "markdown",
   "id": "cbae9cd9",
   "metadata": {},
   "source": [
    "#### Checking how many images are for \"Training\" and how many are for \"Testing\""
   ]
  },
  {
   "cell_type": "code",
   "execution_count": 5,
   "id": "eab6d95f",
   "metadata": {},
   "outputs": [
    {
     "name": "stdout",
     "output_type": "stream",
     "text": [
      "For Training there are \"(60000, 28, 28)\" images\n",
      "For Testing there are \"(10000, 28, 28)\" images\n"
     ]
    }
   ],
   "source": [
    "print(f'For Training there are \"{train_images.shape}\" images')\n",
    "print(f'For Testing there are \"{test_images.shape}\" images')"
   ]
  },
  {
   "cell_type": "code",
   "execution_count": 6,
   "id": "4e6c1da8",
   "metadata": {},
   "outputs": [],
   "source": [
    "from keras import models \n",
    "from keras import layers"
   ]
  },
  {
   "cell_type": "markdown",
   "id": "82c5cffd",
   "metadata": {},
   "source": [
    "#### Things That Everyone Should Know About Multiclass_Classification Problems:\n",
    "* Last layer activation Function should always have to be \"softmax\"!\n",
    "* The loss function should always have to be \"categorical_crossentrophy\" or \"sparse_categorical_crossentrophy\"!\n",
    "\n",
    "So we are using \"Sequential model\" and assigning it to network, now we are going to create two layers(Dense layer)\n",
    "1. In first layer I am using 521 neurons and input is 784(28 * 28)\n",
    "2. In Second layer I am using 10 neuron cause there are 10 types of lables(0, 1, 2, 3,.......,9)"
   ]
  },
  {
   "cell_type": "code",
   "execution_count": 7,
   "id": "62581d5d",
   "metadata": {},
   "outputs": [
    {
     "name": "stderr",
     "output_type": "stream",
     "text": [
      "C:\\Users\\M.TECH COMPUTER\\anaconda3\\lib\\site-packages\\keras\\src\\layers\\core\\dense.py:85: UserWarning: Do not pass an `input_shape`/`input_dim` argument to a layer. When using Sequential models, prefer using an `Input(shape)` object as the first layer in the model instead.\n",
      "  super().__init__(activity_regularizer=activity_regularizer, **kwargs)\n"
     ]
    }
   ],
   "source": [
    "# This problem is \"Multiclass_clasification problem\"!\n",
    "\n",
    "network = models.Sequential()\n",
    "network.add(layers.Dense(512, activation = 'relu', input_shape = (28*28,)))\n",
    "network.add(layers.Dense(10, activation = 'softmax'))"
   ]
  },
  {
   "cell_type": "markdown",
   "id": "951382cd",
   "metadata": {},
   "source": [
    "#### Metrics:\n",
    "* For Classification metrics will be \"accuracy\"!\n",
    "* For Regression metrics will be \"MSE\"\n",
    "\n",
    "\n",
    "#### Now we have to complile model!\n",
    "I am using \"rmsprop\" as an optimizer (This optimizer can be use in any model!)"
   ]
  },
  {
   "cell_type": "code",
   "execution_count": 8,
   "id": "b566fc9e",
   "metadata": {},
   "outputs": [],
   "source": [
    "network.compile(optimizer = 'rmsprop', loss = 'sparse_categorical_crossentropy', metrics = ['accuracy'])"
   ]
  },
  {
   "cell_type": "markdown",
   "id": "406bc028",
   "metadata": {},
   "source": [
    "#### Prepairing Image Data\n",
    "* Since \"Dense Layer\" only works in one dimension, therefore we have to to reshape the matrics into one dimension (e.g. I converted the width and height in of matrix into area!).\n",
    "* To convert the image value in-between 0s and 1s we have to divide the highest image with highest pixel value in the dataset!\n",
    "* Since the image is 8-bit therefore: (0-2^8-1) This condition will be applied so that th answer will become 255!"
   ]
  },
  {
   "cell_type": "code",
   "execution_count": 9,
   "id": "0488016a",
   "metadata": {},
   "outputs": [],
   "source": [
    "train_images = train_images.reshape(60000, 28 * 28)\n",
    "train_images = train_images.astype('float32') / 255    # Converting the value of pixels into 0s and 1s (Normalization)\n",
    "\n",
    "test_images = test_images.reshape(10000, 28 * 28)\n",
    "test_images = test_images.astype('float32') / 255"
   ]
  },
  {
   "cell_type": "markdown",
   "id": "e0a20d9a",
   "metadata": {},
   "source": [
    "### Training The Model!\n",
    "**The accuracy that I have achived while training the model is \"98.90%\"**\n",
    "* The neural network will go through the entire training dataset five times (epochs = 5)!"
   ]
  },
  {
   "cell_type": "code",
   "execution_count": 10,
   "id": "2078ab96",
   "metadata": {
    "scrolled": true
   },
   "outputs": [
    {
     "name": "stdout",
     "output_type": "stream",
     "text": [
      "Epoch 1/5\n",
      "\u001b[1m469/469\u001b[0m \u001b[32m━━━━━━━━━━━━━━━━━━━━\u001b[0m\u001b[37m\u001b[0m \u001b[1m5s\u001b[0m 8ms/step - accuracy: 0.8745 - loss: 0.4397\n",
      "Epoch 2/5\n",
      "\u001b[1m469/469\u001b[0m \u001b[32m━━━━━━━━━━━━━━━━━━━━\u001b[0m\u001b[37m\u001b[0m \u001b[1m4s\u001b[0m 8ms/step - accuracy: 0.9668 - loss: 0.1151\n",
      "Epoch 3/5\n",
      "\u001b[1m469/469\u001b[0m \u001b[32m━━━━━━━━━━━━━━━━━━━━\u001b[0m\u001b[37m\u001b[0m \u001b[1m4s\u001b[0m 8ms/step - accuracy: 0.9776 - loss: 0.0735\n",
      "Epoch 4/5\n",
      "\u001b[1m469/469\u001b[0m \u001b[32m━━━━━━━━━━━━━━━━━━━━\u001b[0m\u001b[37m\u001b[0m \u001b[1m4s\u001b[0m 8ms/step - accuracy: 0.9849 - loss: 0.0507\n",
      "Epoch 5/5\n",
      "\u001b[1m469/469\u001b[0m \u001b[32m━━━━━━━━━━━━━━━━━━━━\u001b[0m\u001b[37m\u001b[0m \u001b[1m4s\u001b[0m 8ms/step - accuracy: 0.9890 - loss: 0.0378\n"
     ]
    },
    {
     "data": {
      "text/plain": [
       "<keras.src.callbacks.history.History at 0x2650001aeb0>"
      ]
     },
     "execution_count": 10,
     "metadata": {},
     "output_type": "execute_result"
    }
   ],
   "source": [
    "network.fit(train_images, train_labels, epochs = 5, batch_size = 128)"
   ]
  },
  {
   "cell_type": "markdown",
   "id": "001bb8ea",
   "metadata": {},
   "source": [
    "### Testing Model!\n",
    "**The Accuracy of while testing is \"97.77%\"**"
   ]
  },
  {
   "cell_type": "code",
   "execution_count": 11,
   "id": "368334b4",
   "metadata": {},
   "outputs": [
    {
     "name": "stdout",
     "output_type": "stream",
     "text": [
      "\u001b[1m313/313\u001b[0m \u001b[32m━━━━━━━━━━━━━━━━━━━━\u001b[0m\u001b[37m\u001b[0m \u001b[1m1s\u001b[0m 2ms/step - accuracy: 0.9777 - loss: 0.0755\n"
     ]
    }
   ],
   "source": [
    "test_loss, test_acc = network.evaluate(test_images, test_labels)"
   ]
  },
  {
   "cell_type": "code",
   "execution_count": 12,
   "id": "8e32ebc2",
   "metadata": {},
   "outputs": [
    {
     "name": "stdout",
     "output_type": "stream",
     "text": [
      "Test Accuracy of This Model is = \"98.15000295639038%\"\n"
     ]
    }
   ],
   "source": [
    "print(f'Test Accuracy of This Model is = \"{test_acc * 100}%\"')"
   ]
  },
  {
   "cell_type": "markdown",
   "id": "b6711623",
   "metadata": {},
   "source": [
    "### Testing Model by Providing Images\n",
    "**We Just have to enter The desire Image in Square Brackets and the model will predict the number for us!**"
   ]
  },
  {
   "cell_type": "code",
   "execution_count": 13,
   "id": "aaeae528",
   "metadata": {},
   "outputs": [
    {
     "name": "stdout",
     "output_type": "stream",
     "text": [
      "\u001b[1m1/1\u001b[0m \u001b[32m━━━━━━━━━━━━━━━━━━━━\u001b[0m\u001b[37m\u001b[0m \u001b[1m0s\u001b[0m 49ms/step\n"
     ]
    },
    {
     "data": {
      "text/plain": [
       "7"
      ]
     },
     "execution_count": 13,
     "metadata": {},
     "output_type": "execute_result"
    }
   ],
   "source": [
    "network.predict(train_images[12000].reshape(1,28 * 28)).argmax()"
   ]
  },
  {
   "cell_type": "code",
   "execution_count": 15,
   "id": "c3268743",
   "metadata": {},
   "outputs": [],
   "source": [
    "network.save('Capcha_Identifier.keras')"
   ]
  },
  {
   "cell_type": "code",
   "execution_count": 26,
   "id": "d8dfce1c",
   "metadata": {},
   "outputs": [],
   "source": [
    "import tensorflow as tf"
   ]
  },
  {
   "cell_type": "code",
   "execution_count": 32,
   "id": "173e42ea",
   "metadata": {},
   "outputs": [],
   "source": [
    "loaded_model = keras.models.load_model('Capcha_Identifier.keras')"
   ]
  },
  {
   "cell_type": "code",
   "execution_count": 33,
   "id": "530e3a9b",
   "metadata": {},
   "outputs": [
    {
     "name": "stdout",
     "output_type": "stream",
     "text": [
      "\u001b[1m1/1\u001b[0m \u001b[32m━━━━━━━━━━━━━━━━━━━━\u001b[0m\u001b[37m\u001b[0m \u001b[1m0s\u001b[0m 46ms/step\n"
     ]
    },
    {
     "data": {
      "text/plain": [
       "7"
      ]
     },
     "execution_count": 33,
     "metadata": {},
     "output_type": "execute_result"
    }
   ],
   "source": [
    "loaded_model.predict(train_images[12000].reshape(1,28 * 28)).argmax()"
   ]
  }
 ],
 "metadata": {
  "kernelspec": {
   "display_name": "Python 3 (ipykernel)",
   "language": "python",
   "name": "python3"
  },
  "language_info": {
   "codemirror_mode": {
    "name": "ipython",
    "version": 3
   },
   "file_extension": ".py",
   "mimetype": "text/x-python",
   "name": "python",
   "nbconvert_exporter": "python",
   "pygments_lexer": "ipython3",
   "version": "3.9.13"
  }
 },
 "nbformat": 4,
 "nbformat_minor": 5
}
